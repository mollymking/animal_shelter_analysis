{
 "cells": [
  {
   "cell_type": "markdown",
   "metadata": {},
   "source": [
    "<h1>Analysis and visualization of King County Animal shelter data using python</h1>"
   ]
  },
  {
   "cell_type": "markdown",
   "metadata": {},
   "source": [
    "<h2>Lesson Objectives</h2>\n",
    "\n",
    "At the end of this exercise, students will be able to:\n",
    "<ul>\n",
    "<li>Download and import a dataset from the internet into python for analysis.</li>\n",
    "<li>Create histograms comparing multiple subgroups in the data.</li>\n",
    "<li>Plot counts of categorical variables based on subgroups of interest.</li>\n",
    "<li>Develop a map using geographical data.</li>\n",
    "</ul>"
   ]
  },
  {
   "cell_type": "markdown",
   "metadata": {},
   "source": [
    "<h2>Notebook Setup</h2>"
   ]
  },
  {
   "cell_type": "markdown",
   "metadata": {},
   "source": [
    "Jupyter is essentially just an advanced word processor. In this way, you can think of a notebook document as being somewhat comparable to a script file, except that it is multimedia. \n",
    "\n",
    "A code cell contains code to be executed and displays its output below.\n",
    "\n",
    "Let's test it out with a classic example. \n",
    "Type \"print('Hello World!')\" into the cell below and click the Notebook Run Button (the triangle) in the toolbar above or press Ctrl + Enter."
   ]
  },
  {
   "cell_type": "code",
   "execution_count": null,
   "metadata": {},
   "outputs": [],
   "source": [
    " "
   ]
  },
  {
   "cell_type": "markdown",
   "metadata": {},
   "source": [
    "The code cell below loads the packages we will need to run the rest of the code."
   ]
  },
  {
   "cell_type": "code",
   "execution_count": null,
   "metadata": {},
   "outputs": [],
   "source": [
    "#Sets up all required packages to use Jupyter Notebook\n",
    "%matplotlib inline\n",
    "%config InlineBackend.figure_format='svg'\n",
    "from IPython.display import display,HTML\n",
    "import pandas as pd\n",
    "import seaborn as sns\n",
    "import numpy as np\n",
    "from io import BytesIO\n",
    "import matplotlib.pyplot as plt\n",
    "sns.set_style(\"ticks\")\n",
    "sns.set_context(context=\"notebook\",font_scale=1)"
   ]
  },
  {
   "cell_type": "markdown",
   "metadata": {},
   "source": [
    "<h2>Dataset</h2>"
   ]
  },
  {
   "cell_type": "markdown",
   "metadata": {},
   "source": [
    "This Notebook is based on the King County, Washington \"Lost, found, adoptable pets\" dataset from animal shelter data. <br>\n",
    "The [dataset](https://data.kingcounty.gov/Licenses-Permits-and-Records/Lost-found-adoptable-pets/yaai-7frk), provided by\n",
    "Regional Animal Services, is available from the [King County Open Data portal](https://data.kingcounty.gov/).\n",
    "\n",
    "The CSV contains a row (observation) for each animal. "
   ]
  },
  {
   "cell_type": "code",
   "execution_count": null,
   "metadata": {},
   "outputs": [],
   "source": [
    "#These commands can help us change the directory we download data to, if necessary.\n",
    "#import os\n",
    "#os.chdir('../Documents/JupyterLab')\n",
    "#print(os.getcwd())\n",
    "\n",
    "#These commands tell Python to request the data from a url and save it to a file\n",
    "import requests\n",
    "response = requests.get('https://data.kingcounty.gov/api/views/yaai-7frk/rows.csv?accessType=DOWNLOAD')\n",
    "filename = \"Lost__found__adoptable_pets.csv\"\n",
    "with open(filename, \"wb\") as f:\n",
    "    f.write(response.content)  \n",
    "\n",
    "#This command tells Pandas to place the data into a dataframe:\n",
    "d = pd.read_csv('Lost__found__adoptable_pets.csv')"
   ]
  },
  {
   "cell_type": "markdown",
   "metadata": {},
   "source": [
    "Let's have a look at the first 5 animals."
   ]
  },
  {
   "cell_type": "code",
   "execution_count": null,
   "metadata": {},
   "outputs": [],
   "source": [
    "d.head(5)[[c for c in d.columns if \"Link\" not in c and \"Memo\" not in c and \"Image\" not in c and \"image_alt_text\" not in c]] \n",
    "             # Ignore columns with \"link\", \"Memo\", \"Image\" in the name (they are long)"
   ]
  },
  {
   "cell_type": "markdown",
   "metadata": {},
   "source": [
    "Let's take a look at what types of animals were turned in or found."
   ]
  },
  {
   "cell_type": "code",
   "execution_count": null,
   "metadata": {},
   "outputs": [],
   "source": [
    "#Take a look at the data and create dataframes (subsets) for each type of animal\n",
    "dog=d[d[\"animal_type\"]==\"Dog\"] # dogs\n",
    "cat=d[d[\"animal_type\"]==\"Cat\"] # cats\n",
    "rabbit=d[d[\"animal_type\"]==\"Rabbit Sh\"] # rabbit\n",
    "bird=d[d[\"animal_type\"]==\"Bird\"] # bird\n",
    "\n",
    "print(\"{} dogs ({:.1%}), {} cats ({:.1%}), {} rabbits ({:.1%}), {} birds ({:.1%})\".format(\n",
    "    len(dog),len(dog)/len(d),\n",
    "    len(cat),len(cat)/len(d),\n",
    "    len(rabbit),len(rabbit)/len(d),\n",
    "    len(bird),len(bird)/len(d)))\n",
    "print(type(str(d[\"Age\"][1])))"
   ]
  },
  {
   "cell_type": "markdown",
   "metadata": {},
   "source": [
    "<h2>Age distribution</h2>"
   ]
  },
  {
   "cell_type": "markdown",
   "metadata": {},
   "source": [
    "<h3>Data cleaning</h3>"
   ]
  },
  {
   "cell_type": "markdown",
   "metadata": {},
   "source": [
    "Since the age is entered in text format, first we need to convert it to months."
   ]
  },
  {
   "cell_type": "code",
   "execution_count": null,
   "metadata": {},
   "outputs": [],
   "source": [
    "#First, extract year, month, and week from string (text) column data\n",
    "d[\"years\"] = d['Age'].str.extract('(?P<years>\\d*)\\s*YEAR')\n",
    "d[\"months\"] = d['Age'].str.extract('(?P<months>\\d*)\\s*MONTH')\n",
    "d[\"weeks\"] = d['Age'].str.extract('(?P<weeks>\\d*)\\s*WEEK')\n",
    "\n",
    "#Now, convert these new variables to integers\n",
    "d[\"years\"] = pd.to_numeric(d[\"years\"])\n",
    "d[\"months\"] = pd.to_numeric(d[\"months\"])\n",
    "d[\"weeks\"] = pd.to_numeric(d[\"weeks\"])"
   ]
  },
  {
   "cell_type": "code",
   "execution_count": null,
   "metadata": {},
   "outputs": [],
   "source": [
    "#Convert age in months to age in fractional years.\n",
    "#Add together years, months, and weeks, replacing missing values with 0 for now\n",
    "d[\"Age_years\"] = d[\"years\"].fillna(0) + ((d[\"months\"].fillna(0))/12.0) + ((d[\"weeks\"].fillna(0))/52)\n",
    "\n",
    "#Now replace 0 values with NaN again\n",
    "d[\"Age_years\"] = d[\"Age_years\"].replace(0,np.nan)\n",
    "\n",
    "print(d.head(5)[\"Age_years\"])"
   ]
  },
  {
   "cell_type": "markdown",
   "metadata": {},
   "source": [
    "<h3>Age outliers</h3>"
   ]
  },
  {
   "cell_type": "markdown",
   "metadata": {},
   "source": [
    "There might be outliers in our data. Let's have a look at their data."
   ]
  },
  {
   "cell_type": "code",
   "execution_count": null,
   "metadata": {},
   "outputs": [],
   "source": [
    "print(\"Age statistics:\\n{}\".format(d[\"Age_years\"].describe()))\n",
    "print()\n",
    "print(\"There are {} animals older than 12\".format((d[\"Age_years\"]>12).sum()))\n",
    "print()\n",
    "print(\"There are {} animals younger than 1\".format((d[\"Age_years\"]<1).sum()))"
   ]
  },
  {
   "cell_type": "markdown",
   "metadata": {},
   "source": [
    "Apparently we have 15 animals older than 12, and 22 younger than 1. \n",
    "The maximum age is 18. Let's take a look at the very old animals."
   ]
  },
  {
   "cell_type": "code",
   "execution_count": null,
   "metadata": {},
   "outputs": [],
   "source": [
    "d[d[\"Age_years\"]>15]  [[c for c in d.columns if \"Link\" not in c and \"Memo\" not in c and \"Image\" not in c and \"image_alt_text\" not in c]]"
   ]
  },
  {
   "cell_type": "markdown",
   "metadata": {},
   "source": [
    "Let's take a look at where our dataset stands now."
   ]
  },
  {
   "cell_type": "code",
   "execution_count": null,
   "metadata": {},
   "outputs": [],
   "source": [
    "#Now that we have added information about the animals' ages, we will want to redefine our dataframes for each type of animal:\n",
    "dog=d[d[\"animal_type\"]==\"Dog\"] # dogs\n",
    "cat=d[d[\"animal_type\"]==\"Cat\"] # cats\n",
    "rabbit=d[d[\"animal_type\"]==\"Rabbit Sh\"] # rabbit\n",
    "bird=d[d[\"animal_type\"]==\"Bird\"] # bird\n",
    "\n",
    "print(\"{} dogs ({:.1%}), {} cats ({:.1%}), {} rabbits ({:.1%}), {} birds ({:.1%})\".format(\n",
    "    len(dog),len(dog)/len(d),\n",
    "    len(cat),len(cat)/len(d),\n",
    "    len(rabbit),len(rabbit)/len(d),\n",
    "    len(bird),len(bird)/len(d)))\n",
    "print(type(str(d[\"Age\"][1])))\n",
    "\n",
    "print()\n",
    "print(\"Age statistics:\\n{}\".format(d[\"Age_years\"].describe()))"
   ]
  },
  {
   "cell_type": "markdown",
   "metadata": {},
   "source": [
    "We will use this information to help us decide on a good range for our histograms and other visualizations below."
   ]
  },
  {
   "cell_type": "markdown",
   "metadata": {},
   "source": [
    "<h3>Create age histograms for dogs and cats</h3>\n",
    "\n",
    "A histogram is a plot that lets you discover, and show, the underlying frequency distribution (shape) of a set of continuous data."
   ]
  },
  {
   "cell_type": "code",
   "execution_count": null,
   "metadata": {},
   "outputs": [],
   "source": [
    "fig,(ax1,ax2) = plt.subplots(ncols=2,figsize=(10,3),sharey=True,sharex=True)\n",
    "sns.distplot(dog[\"Age_years\"].dropna(), ax=ax1,\n",
    "             bins=range(0,20), \n",
    "             kde=False,\n",
    "             color=\"blue\")\n",
    "ax1.set_title(\"Age distribution for dogs\")\n",
    "sns.distplot(cat[\"Age_years\"].dropna(), ax=ax2,\n",
    "             bins=range(0,20), \n",
    "             kde=False,\n",
    "             color=\"green\")\n",
    "ax2.set_title(\"Age distribution for cats\")\n",
    "ax1.set_ylabel(\"Number of animals in age group\")\n",
    "for ax in (ax1,ax2):\n",
    "    sns.despine(ax=ax)\n",
    "fig.tight_layout()"
   ]
  },
  {
   "cell_type": "code",
   "execution_count": null,
   "metadata": {},
   "outputs": [],
   "source": [
    "fig,(ax,ax2) = plt.subplots(ncols=1,nrows=2,sharex=True,figsize=(6,6),gridspec_kw={'height_ratios':[2,1]})\n",
    "\n",
    "# Plot histograms of age\n",
    "bins=range(0,20) \n",
    "sns.distplot(dog[\"Age_years\"].dropna(), ax=ax,\n",
    "             bins=bins,\n",
    "             kde=False,\n",
    "             color=\"blue\",\n",
    "             label=\"dogs\")\n",
    "sns.distplot(cat[\"Age_years\"].dropna(), ax=ax,\n",
    "             bins=bins,\n",
    "             kde=False,\n",
    "             color=\"green\",\n",
    "             label=\"cats\")\n",
    "ax.legend(loc=\"upper right\")\n",
    "ax.set_xlabel(\"\")\n",
    "ax.set_ylabel(\"Number of animals of a given age\")\n",
    "ax.set_title(\"Age distribution of animals\");\n",
    "\n",
    "# Make aligned boxplots\n",
    "sns.boxplot(data=pd.concat([dog, cat]),  #list of data frames we are using for these plots\n",
    "            y=\"animal_type\",\n",
    "            x=\"Age_years\",\n",
    "            orient=\"h\",\n",
    "            ax=ax2,\n",
    "            palette={\"Dog\":\"blue\",\"Cat\":\"green\"})\n",
    "plt.setp(ax2.artists, alpha=.5)\n",
    "ax2.set_xlim([min(bins),max(bins)])\n",
    "ax2.set_xlabel(\"Age (years)\")\n",
    "\n",
    "#sns.despine(ax=ax)\n",
    "fig.tight_layout()"
   ]
  },
  {
   "cell_type": "markdown",
   "metadata": {},
   "source": [
    "<h3>Extension</h3>\n",
    "\n",
    "How might you extend the above histogram and box plot to include rabbits? We have already created the dataframe for the rabbit's ages (rabbit). Can you add an extra plot to the above to plot the rabbits' ages as well?"
   ]
  },
  {
   "cell_type": "code",
   "execution_count": null,
   "metadata": {},
   "outputs": [],
   "source": []
  },
  {
   "cell_type": "markdown",
   "metadata": {},
   "source": [
    "<h2>Temperaments of Dogs and Cats</h2>\n",
    "\n",
    "The [King County Regional Animal Services classifies animals into 3 categories](https://www.kingcounty.gov/depts/regional-animal-services/adopt-a-pet/adoptable-animals.aspx) based on how handlers perceive their temperaments:  <br>\n",
    "\n",
    "<ul>\n",
    "<li>\"Bashful Blue: Animals in the blue category are gentle and loving, but they may be nervous in new situations. They might need some time to come out of their shell, but once they do they will be a devoted part of the family!\" </li>\n",
    "<li>\"Rambunctious Red: Animals in the red category are spirited, independent-thinkers. They may be particular about who or what they like or have quirks that are best suited for seasoned handlers. Investing in them will reward you with a cherished friend!\"</li>\n",
    "<li>\"Easy-going Green: Animals in the green category are adaptable and carefree. They are wonderful companions who love to go with the flow!\" </li>\n",
    "</ul>\n",
    "    \n",
    "We're going to plot counts of the prevalence of each temperament among the animals, so we can get a better sense of how often they occur:"
   ]
  },
  {
   "cell_type": "code",
   "execution_count": null,
   "metadata": {
    "scrolled": true
   },
   "outputs": [],
   "source": [
    "sns.countplot(x=\"Temperament\", \n",
    "              data=pd.concat([dog, cat]), \n",
    "              orient=\"h\", \n",
    "              palette={\"GREEN\":\"green\", \"BLUE\":\"blue\", \"RED\":\"red\"}, \n",
    "              order=[\"RED\", \"GREEN\", \"BLUE\"],\n",
    "              saturation=0.2, \n",
    "            )"
   ]
  },
  {
   "cell_type": "markdown",
   "metadata": {},
   "source": [
    "<h3>Extension: Analyzing Temperament by Animal Type</h3>\n",
    "\n",
    "We might also be interested in looking at how the temperament evaluation varies between dogs and cats, or between whether an animal was lost or found (Record_Type), or based on where the animal is currently housed (Current_Location). Try nesting a variable of your interest within the Temparament analysis to find out more about a question you are interested in."
   ]
  },
  {
   "cell_type": "code",
   "execution_count": null,
   "metadata": {},
   "outputs": [],
   "source": [
    "fig,(ax1,ax2) = plt.subplots(ncols=2,figsize=(10,3),sharey=True,sharex=True)\n",
    "sns.countplot(x=\"Temperament\", \n",
    "              data=dog, \n",
    "\n",
    "              ax=ax1,\n",
    "            )\n",
    "sns.countplot(x=\"Temperament\", \n",
    "              data=    ,\n",
    "              \n",
    "              \n",
    "              \n",
    "              \n",
    "              \n",
    "            )\n",
    "\n",
    "fig.tight_layout()"
   ]
  },
  {
   "cell_type": "markdown",
   "metadata": {},
   "source": [
    "<h2>Mapping Lost and Found Animals</h2>\n",
    "\n",
    "Many of the animals include recorded latitudes and longitudes (obfuscated in the public release data) about where they were found. We can use these data to create a map."
   ]
  },
  {
   "cell_type": "code",
   "execution_count": null,
   "metadata": {},
   "outputs": [],
   "source": [
    "# First we need to import the libraries and packages we will use to create the maps\n",
    "import geopandas as gpd\n",
    "import matplotlib.pyplot as plt\n",
    "from shapely.geometry import box\n",
    "from shapely.geometry import Point\n",
    "import contextily as ctx  "
   ]
  },
  {
   "cell_type": "code",
   "execution_count": null,
   "metadata": {},
   "outputs": [],
   "source": [
    "#Replace 0 values with NaN, since the (latitude, longitude = 0,0) cannot be accurate\n",
    "d[\"obfuscated_longitude\"] = d[\"obfuscated_longitude\"].replace(0,np.nan)\n",
    "d[\"obfuscated_latitude\"] = d[\"obfuscated_latitude\"].replace(0,np.nan)\n",
    "\n",
    "#A GeoDataFrame needs a shapely object, so we create a new column Coordinates as a tuple of Longitude and Latitude :\n",
    "d[\"Coordinates\"] = list(zip(d.obfuscated_longitude, d.obfuscated_latitude))\n",
    "\n",
    "#Then, we transform tuples to Point :\n",
    "d[\"Coordinates\"] = d[\"Coordinates\"].apply(Point)\n",
    "\n",
    "#Now, we can create the GeoDataFrame by setting geometry with the coordinates created previously.\n",
    "gdf = gpd.GeoDataFrame(d, geometry='Coordinates')\n",
    "\n",
    "# We can now plot our GeoDataFrame.\n",
    "gdf.plot(color='red')\n",
    "\n",
    "#Web map tiles are typically provided in Web Mercator (EPSG 3857), so we need to convert our data first\n",
    "#to the same Coordinate Reference System (CRS) to combine our coordinates and background tiles in the same map\n",
    "gdf.crs = {'init' :'epsg:4326'}\n",
    "gdf = gdf.to_crs(epsg=3857)"
   ]
  },
  {
   "cell_type": "code",
   "execution_count": null,
   "metadata": {},
   "outputs": [],
   "source": [
    "#Let's also take a look at the Geo Dataframe :\n",
    "gdf.head(5)[[\"animal_type\",\"Obfuscated_Address\",\"City\",\"obfuscated_latitude\",\"obfuscated_longitude\",\"Coordinates\"]]"
   ]
  },
  {
   "cell_type": "code",
   "execution_count": null,
   "metadata": {},
   "outputs": [],
   "source": [
    "#Add background tiles to plot\n",
    "import contextily as ctx #small helper function that uses contextily to add a map as background to an existing plot\n",
    "def add_basemap(ax, zoom, url='http://tile.stamen.com/terrain/tileZ/tileX/tileY.png'):\n",
    "    xmin, xmax, ymin, ymax = ax.axis()\n",
    "    basemap, extent = ctx.bounds2img(xmin, ymin, xmax, ymax, zoom=zoom, url=url)\n",
    "    ax.imshow(basemap, extent=extent, interpolation='bilinear')\n",
    "# restore original x/y limits\n",
    "    ax.axis((xmin, xmax, ymin, ymax))\n",
    "    \n",
    "#ax = gdf.plot(figsize=(10, 10), alpha=0.5, edgecolor='k')\n",
    "ax = gdf.plot(figsize=(10, 10), alpha=1.0, edgecolor='k', color='red')\n",
    "add_basemap(ax, zoom=10)\n"
   ]
  },
  {
   "cell_type": "markdown",
   "metadata": {},
   "source": [
    "More precise [geocoding](http://geopandas.org/geocoding.html) could be done by getting more details on the addresses missing latitude and longitude coordinates using the [Google API](https://developers.google.com/maps/documentation/geocoding/start)."
   ]
  },
  {
   "cell_type": "markdown",
   "metadata": {},
   "source": [
    "<h2>Acknowledgements</h2>"
   ]
  },
  {
   "cell_type": "markdown",
   "metadata": {},
   "source": [
    "The [dataset](https://data.kingcounty.gov/Licenses-Permits-and-Records/Lost-found-adoptable-pets/yaai-7frk) is available from the [King County Open Data initiative](https://data.kingcounty.gov/).\n",
    "\n",
    "This Notebook was developed in part based on the [Jupyter Notebook created by Alessandro Giusti and Dalle Molle](https://nbviewer.jupyter.org/github/lalelale/profiles_analysis/blob/master/profiles.ipynb).\n",
    "\n",
    "Details about how to use Jupyter notebooks come from this website: [Jupyter Notebook for Beginners: A Tutorial](https://www.dataquest.io/blog/jupyter-notebook-tutorial/)."
   ]
  }
 ],
 "metadata": {
  "kernelspec": {
   "display_name": "Python 3",
   "language": "python",
   "name": "python3"
  },
  "language_info": {
   "codemirror_mode": {
    "name": "ipython",
    "version": 3
   },
   "file_extension": ".py",
   "mimetype": "text/x-python",
   "name": "python",
   "nbconvert_exporter": "python",
   "pygments_lexer": "ipython3",
   "version": "3.6.8"
  }
 },
 "nbformat": 4,
 "nbformat_minor": 2
}
